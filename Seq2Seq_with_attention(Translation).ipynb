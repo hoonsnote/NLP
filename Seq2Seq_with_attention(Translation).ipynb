{
  "nbformat": 4,
  "nbformat_minor": 0,
  "metadata": {
    "accelerator": "GPU",
    "colab": {
      "name": "Translation_Seq2Seq_with_attention.ipynb",
      "provenance": [],
      "collapsed_sections": [],
      "machine_shape": "hm",
      "include_colab_link": true
    },
    "kernelspec": {
      "display_name": "Python 3",
      "language": "python",
      "name": "python3"
    },
    "language_info": {
      "codemirror_mode": {
        "name": "ipython",
        "version": 3
      },
      "file_extension": ".py",
      "mimetype": "text/x-python",
      "name": "python",
      "nbconvert_exporter": "python",
      "pygments_lexer": "ipython3",
      "version": "3.8.5"
    },
    "widgets": {
      "application/vnd.jupyter.widget-state+json": {
        "2a79c97a2af5475091e1c67a7315bcae": {
          "model_module": "@jupyter-widgets/controls",
          "model_name": "HBoxModel",
          "state": {
            "_view_name": "HBoxView",
            "_dom_classes": [],
            "_model_name": "HBoxModel",
            "_view_module": "@jupyter-widgets/controls",
            "_model_module_version": "1.5.0",
            "_view_count": null,
            "_view_module_version": "1.5.0",
            "box_style": "",
            "layout": "IPY_MODEL_87cceea4b4944358a4d37d548ea6b9a5",
            "_model_module": "@jupyter-widgets/controls",
            "children": [
              "IPY_MODEL_66b5c77d1cd04941b49ccdb24edfe2e4",
              "IPY_MODEL_aafada3592e84e85bfd45e353fef8dc4"
            ]
          }
        },
        "87cceea4b4944358a4d37d548ea6b9a5": {
          "model_module": "@jupyter-widgets/base",
          "model_name": "LayoutModel",
          "state": {
            "_view_name": "LayoutView",
            "grid_template_rows": null,
            "right": null,
            "justify_content": null,
            "_view_module": "@jupyter-widgets/base",
            "overflow": null,
            "_model_module_version": "1.2.0",
            "_view_count": null,
            "flex_flow": null,
            "width": null,
            "min_width": null,
            "border": null,
            "align_items": null,
            "bottom": null,
            "_model_module": "@jupyter-widgets/base",
            "top": null,
            "grid_column": null,
            "overflow_y": null,
            "overflow_x": null,
            "grid_auto_flow": null,
            "grid_area": null,
            "grid_template_columns": null,
            "flex": null,
            "_model_name": "LayoutModel",
            "justify_items": null,
            "grid_row": null,
            "max_height": null,
            "align_content": null,
            "visibility": null,
            "align_self": null,
            "height": null,
            "min_height": null,
            "padding": null,
            "grid_auto_rows": null,
            "grid_gap": null,
            "max_width": null,
            "order": null,
            "_view_module_version": "1.2.0",
            "grid_template_areas": null,
            "object_position": null,
            "object_fit": null,
            "grid_auto_columns": null,
            "margin": null,
            "display": null,
            "left": null
          }
        },
        "66b5c77d1cd04941b49ccdb24edfe2e4": {
          "model_module": "@jupyter-widgets/controls",
          "model_name": "FloatProgressModel",
          "state": {
            "_view_name": "ProgressView",
            "style": "IPY_MODEL_f261abd29b8742429e9c6780e2032808",
            "_dom_classes": [],
            "description": "100%",
            "_model_name": "FloatProgressModel",
            "bar_style": "success",
            "max": 4500,
            "_view_module": "@jupyter-widgets/controls",
            "_model_module_version": "1.5.0",
            "value": 4500,
            "_view_count": null,
            "_view_module_version": "1.5.0",
            "orientation": "horizontal",
            "min": 0,
            "description_tooltip": null,
            "_model_module": "@jupyter-widgets/controls",
            "layout": "IPY_MODEL_a292bffc48ae4106b24c4d475a8a0ad1"
          }
        },
        "aafada3592e84e85bfd45e353fef8dc4": {
          "model_module": "@jupyter-widgets/controls",
          "model_name": "HTMLModel",
          "state": {
            "_view_name": "HTMLView",
            "style": "IPY_MODEL_5f726302f1144e16a3a7fd80040364da",
            "_dom_classes": [],
            "description": "",
            "_model_name": "HTMLModel",
            "placeholder": "​",
            "_view_module": "@jupyter-widgets/controls",
            "_model_module_version": "1.5.0",
            "value": " 4500/4500 [10:16&lt;00:00,  7.30it/s]",
            "_view_count": null,
            "_view_module_version": "1.5.0",
            "description_tooltip": null,
            "_model_module": "@jupyter-widgets/controls",
            "layout": "IPY_MODEL_55e27fcda57a486bb2d3ecfcff928423"
          }
        },
        "f261abd29b8742429e9c6780e2032808": {
          "model_module": "@jupyter-widgets/controls",
          "model_name": "ProgressStyleModel",
          "state": {
            "_view_name": "StyleView",
            "_model_name": "ProgressStyleModel",
            "description_width": "initial",
            "_view_module": "@jupyter-widgets/base",
            "_model_module_version": "1.5.0",
            "_view_count": null,
            "_view_module_version": "1.2.0",
            "bar_color": null,
            "_model_module": "@jupyter-widgets/controls"
          }
        },
        "a292bffc48ae4106b24c4d475a8a0ad1": {
          "model_module": "@jupyter-widgets/base",
          "model_name": "LayoutModel",
          "state": {
            "_view_name": "LayoutView",
            "grid_template_rows": null,
            "right": null,
            "justify_content": null,
            "_view_module": "@jupyter-widgets/base",
            "overflow": null,
            "_model_module_version": "1.2.0",
            "_view_count": null,
            "flex_flow": null,
            "width": null,
            "min_width": null,
            "border": null,
            "align_items": null,
            "bottom": null,
            "_model_module": "@jupyter-widgets/base",
            "top": null,
            "grid_column": null,
            "overflow_y": null,
            "overflow_x": null,
            "grid_auto_flow": null,
            "grid_area": null,
            "grid_template_columns": null,
            "flex": null,
            "_model_name": "LayoutModel",
            "justify_items": null,
            "grid_row": null,
            "max_height": null,
            "align_content": null,
            "visibility": null,
            "align_self": null,
            "height": null,
            "min_height": null,
            "padding": null,
            "grid_auto_rows": null,
            "grid_gap": null,
            "max_width": null,
            "order": null,
            "_view_module_version": "1.2.0",
            "grid_template_areas": null,
            "object_position": null,
            "object_fit": null,
            "grid_auto_columns": null,
            "margin": null,
            "display": null,
            "left": null
          }
        },
        "5f726302f1144e16a3a7fd80040364da": {
          "model_module": "@jupyter-widgets/controls",
          "model_name": "DescriptionStyleModel",
          "state": {
            "_view_name": "StyleView",
            "_model_name": "DescriptionStyleModel",
            "description_width": "",
            "_view_module": "@jupyter-widgets/base",
            "_model_module_version": "1.5.0",
            "_view_count": null,
            "_view_module_version": "1.2.0",
            "_model_module": "@jupyter-widgets/controls"
          }
        },
        "55e27fcda57a486bb2d3ecfcff928423": {
          "model_module": "@jupyter-widgets/base",
          "model_name": "LayoutModel",
          "state": {
            "_view_name": "LayoutView",
            "grid_template_rows": null,
            "right": null,
            "justify_content": null,
            "_view_module": "@jupyter-widgets/base",
            "overflow": null,
            "_model_module_version": "1.2.0",
            "_view_count": null,
            "flex_flow": null,
            "width": null,
            "min_width": null,
            "border": null,
            "align_items": null,
            "bottom": null,
            "_model_module": "@jupyter-widgets/base",
            "top": null,
            "grid_column": null,
            "overflow_y": null,
            "overflow_x": null,
            "grid_auto_flow": null,
            "grid_area": null,
            "grid_template_columns": null,
            "flex": null,
            "_model_name": "LayoutModel",
            "justify_items": null,
            "grid_row": null,
            "max_height": null,
            "align_content": null,
            "visibility": null,
            "align_self": null,
            "height": null,
            "min_height": null,
            "padding": null,
            "grid_auto_rows": null,
            "grid_gap": null,
            "max_width": null,
            "order": null,
            "_view_module_version": "1.2.0",
            "grid_template_areas": null,
            "object_position": null,
            "object_fit": null,
            "grid_auto_columns": null,
            "margin": null,
            "display": null,
            "left": null
          }
        },
        "5435d93727ac48789b4db7de9abd3916": {
          "model_module": "@jupyter-widgets/controls",
          "model_name": "HBoxModel",
          "state": {
            "_view_name": "HBoxView",
            "_dom_classes": [],
            "_model_name": "HBoxModel",
            "_view_module": "@jupyter-widgets/controls",
            "_model_module_version": "1.5.0",
            "_view_count": null,
            "_view_module_version": "1.5.0",
            "box_style": "",
            "layout": "IPY_MODEL_9b06ee06c0c3479ba4f9d25c2f6ebb1b",
            "_model_module": "@jupyter-widgets/controls",
            "children": [
              "IPY_MODEL_bcc2d01baae7473d82e6197c2506f507",
              "IPY_MODEL_3d9011a3383f4dbda606b7bef91d2a02"
            ]
          }
        },
        "9b06ee06c0c3479ba4f9d25c2f6ebb1b": {
          "model_module": "@jupyter-widgets/base",
          "model_name": "LayoutModel",
          "state": {
            "_view_name": "LayoutView",
            "grid_template_rows": null,
            "right": null,
            "justify_content": null,
            "_view_module": "@jupyter-widgets/base",
            "overflow": null,
            "_model_module_version": "1.2.0",
            "_view_count": null,
            "flex_flow": null,
            "width": null,
            "min_width": null,
            "border": null,
            "align_items": null,
            "bottom": null,
            "_model_module": "@jupyter-widgets/base",
            "top": null,
            "grid_column": null,
            "overflow_y": null,
            "overflow_x": null,
            "grid_auto_flow": null,
            "grid_area": null,
            "grid_template_columns": null,
            "flex": null,
            "_model_name": "LayoutModel",
            "justify_items": null,
            "grid_row": null,
            "max_height": null,
            "align_content": null,
            "visibility": null,
            "align_self": null,
            "height": null,
            "min_height": null,
            "padding": null,
            "grid_auto_rows": null,
            "grid_gap": null,
            "max_width": null,
            "order": null,
            "_view_module_version": "1.2.0",
            "grid_template_areas": null,
            "object_position": null,
            "object_fit": null,
            "grid_auto_columns": null,
            "margin": null,
            "display": null,
            "left": null
          }
        },
        "bcc2d01baae7473d82e6197c2506f507": {
          "model_module": "@jupyter-widgets/controls",
          "model_name": "FloatProgressModel",
          "state": {
            "_view_name": "ProgressView",
            "style": "IPY_MODEL_ee9c3cc5f254440f8094449cdddeaf6b",
            "_dom_classes": [],
            "description": "100%",
            "_model_name": "FloatProgressModel",
            "bar_style": "success",
            "max": 4500,
            "_view_module": "@jupyter-widgets/controls",
            "_model_module_version": "1.5.0",
            "value": 4500,
            "_view_count": null,
            "_view_module_version": "1.5.0",
            "orientation": "horizontal",
            "min": 0,
            "description_tooltip": null,
            "_model_module": "@jupyter-widgets/controls",
            "layout": "IPY_MODEL_e242251f3e6b4552aa91242a039f3dde"
          }
        },
        "3d9011a3383f4dbda606b7bef91d2a02": {
          "model_module": "@jupyter-widgets/controls",
          "model_name": "HTMLModel",
          "state": {
            "_view_name": "HTMLView",
            "style": "IPY_MODEL_59152cbe2c744a1780ce69a227db4c1b",
            "_dom_classes": [],
            "description": "",
            "_model_name": "HTMLModel",
            "placeholder": "​",
            "_view_module": "@jupyter-widgets/controls",
            "_model_module_version": "1.5.0",
            "value": " 4500/4500 [09:50&lt;00:00,  7.63it/s]",
            "_view_count": null,
            "_view_module_version": "1.5.0",
            "description_tooltip": null,
            "_model_module": "@jupyter-widgets/controls",
            "layout": "IPY_MODEL_33cffaa1f1b14c4abf4654961d77d4fc"
          }
        },
        "ee9c3cc5f254440f8094449cdddeaf6b": {
          "model_module": "@jupyter-widgets/controls",
          "model_name": "ProgressStyleModel",
          "state": {
            "_view_name": "StyleView",
            "_model_name": "ProgressStyleModel",
            "description_width": "initial",
            "_view_module": "@jupyter-widgets/base",
            "_model_module_version": "1.5.0",
            "_view_count": null,
            "_view_module_version": "1.2.0",
            "bar_color": null,
            "_model_module": "@jupyter-widgets/controls"
          }
        },
        "e242251f3e6b4552aa91242a039f3dde": {
          "model_module": "@jupyter-widgets/base",
          "model_name": "LayoutModel",
          "state": {
            "_view_name": "LayoutView",
            "grid_template_rows": null,
            "right": null,
            "justify_content": null,
            "_view_module": "@jupyter-widgets/base",
            "overflow": null,
            "_model_module_version": "1.2.0",
            "_view_count": null,
            "flex_flow": null,
            "width": null,
            "min_width": null,
            "border": null,
            "align_items": null,
            "bottom": null,
            "_model_module": "@jupyter-widgets/base",
            "top": null,
            "grid_column": null,
            "overflow_y": null,
            "overflow_x": null,
            "grid_auto_flow": null,
            "grid_area": null,
            "grid_template_columns": null,
            "flex": null,
            "_model_name": "LayoutModel",
            "justify_items": null,
            "grid_row": null,
            "max_height": null,
            "align_content": null,
            "visibility": null,
            "align_self": null,
            "height": null,
            "min_height": null,
            "padding": null,
            "grid_auto_rows": null,
            "grid_gap": null,
            "max_width": null,
            "order": null,
            "_view_module_version": "1.2.0",
            "grid_template_areas": null,
            "object_position": null,
            "object_fit": null,
            "grid_auto_columns": null,
            "margin": null,
            "display": null,
            "left": null
          }
        },
        "59152cbe2c744a1780ce69a227db4c1b": {
          "model_module": "@jupyter-widgets/controls",
          "model_name": "DescriptionStyleModel",
          "state": {
            "_view_name": "StyleView",
            "_model_name": "DescriptionStyleModel",
            "description_width": "",
            "_view_module": "@jupyter-widgets/base",
            "_model_module_version": "1.5.0",
            "_view_count": null,
            "_view_module_version": "1.2.0",
            "_model_module": "@jupyter-widgets/controls"
          }
        },
        "33cffaa1f1b14c4abf4654961d77d4fc": {
          "model_module": "@jupyter-widgets/base",
          "model_name": "LayoutModel",
          "state": {
            "_view_name": "LayoutView",
            "grid_template_rows": null,
            "right": null,
            "justify_content": null,
            "_view_module": "@jupyter-widgets/base",
            "overflow": null,
            "_model_module_version": "1.2.0",
            "_view_count": null,
            "flex_flow": null,
            "width": null,
            "min_width": null,
            "border": null,
            "align_items": null,
            "bottom": null,
            "_model_module": "@jupyter-widgets/base",
            "top": null,
            "grid_column": null,
            "overflow_y": null,
            "overflow_x": null,
            "grid_auto_flow": null,
            "grid_area": null,
            "grid_template_columns": null,
            "flex": null,
            "_model_name": "LayoutModel",
            "justify_items": null,
            "grid_row": null,
            "max_height": null,
            "align_content": null,
            "visibility": null,
            "align_self": null,
            "height": null,
            "min_height": null,
            "padding": null,
            "grid_auto_rows": null,
            "grid_gap": null,
            "max_width": null,
            "order": null,
            "_view_module_version": "1.2.0",
            "grid_template_areas": null,
            "object_position": null,
            "object_fit": null,
            "grid_auto_columns": null,
            "margin": null,
            "display": null,
            "left": null
          }
        },
        "b3bc57e0c2844322a4b84a368d669859": {
          "model_module": "@jupyter-widgets/controls",
          "model_name": "HBoxModel",
          "state": {
            "_view_name": "HBoxView",
            "_dom_classes": [],
            "_model_name": "HBoxModel",
            "_view_module": "@jupyter-widgets/controls",
            "_model_module_version": "1.5.0",
            "_view_count": null,
            "_view_module_version": "1.5.0",
            "box_style": "",
            "layout": "IPY_MODEL_b495012334f843f082427e2728a4c80c",
            "_model_module": "@jupyter-widgets/controls",
            "children": [
              "IPY_MODEL_afc20ac58945449b8fb38a5161ac277d",
              "IPY_MODEL_6c58e6fb35d342efb10a48a17d134363"
            ]
          }
        },
        "b495012334f843f082427e2728a4c80c": {
          "model_module": "@jupyter-widgets/base",
          "model_name": "LayoutModel",
          "state": {
            "_view_name": "LayoutView",
            "grid_template_rows": null,
            "right": null,
            "justify_content": null,
            "_view_module": "@jupyter-widgets/base",
            "overflow": null,
            "_model_module_version": "1.2.0",
            "_view_count": null,
            "flex_flow": null,
            "width": null,
            "min_width": null,
            "border": null,
            "align_items": null,
            "bottom": null,
            "_model_module": "@jupyter-widgets/base",
            "top": null,
            "grid_column": null,
            "overflow_y": null,
            "overflow_x": null,
            "grid_auto_flow": null,
            "grid_area": null,
            "grid_template_columns": null,
            "flex": null,
            "_model_name": "LayoutModel",
            "justify_items": null,
            "grid_row": null,
            "max_height": null,
            "align_content": null,
            "visibility": null,
            "align_self": null,
            "height": null,
            "min_height": null,
            "padding": null,
            "grid_auto_rows": null,
            "grid_gap": null,
            "max_width": null,
            "order": null,
            "_view_module_version": "1.2.0",
            "grid_template_areas": null,
            "object_position": null,
            "object_fit": null,
            "grid_auto_columns": null,
            "margin": null,
            "display": null,
            "left": null
          }
        },
        "afc20ac58945449b8fb38a5161ac277d": {
          "model_module": "@jupyter-widgets/controls",
          "model_name": "FloatProgressModel",
          "state": {
            "_view_name": "ProgressView",
            "style": "IPY_MODEL_d7c397ec0c7c4e86aed27f6f73891ae7",
            "_dom_classes": [],
            "description": "100%",
            "_model_name": "FloatProgressModel",
            "bar_style": "success",
            "max": 4500,
            "_view_module": "@jupyter-widgets/controls",
            "_model_module_version": "1.5.0",
            "value": 4500,
            "_view_count": null,
            "_view_module_version": "1.5.0",
            "orientation": "horizontal",
            "min": 0,
            "description_tooltip": null,
            "_model_module": "@jupyter-widgets/controls",
            "layout": "IPY_MODEL_a0158fde0b064d708c497ae85f91fc59"
          }
        },
        "6c58e6fb35d342efb10a48a17d134363": {
          "model_module": "@jupyter-widgets/controls",
          "model_name": "HTMLModel",
          "state": {
            "_view_name": "HTMLView",
            "style": "IPY_MODEL_87c80482c1c145c4beafc22c3aeba7bc",
            "_dom_classes": [],
            "description": "",
            "_model_name": "HTMLModel",
            "placeholder": "​",
            "_view_module": "@jupyter-widgets/controls",
            "_model_module_version": "1.5.0",
            "value": " 4500/4500 [08:28&lt;00:00,  8.85it/s]",
            "_view_count": null,
            "_view_module_version": "1.5.0",
            "description_tooltip": null,
            "_model_module": "@jupyter-widgets/controls",
            "layout": "IPY_MODEL_421f2a4ec4e341b5b6842af8df6562b4"
          }
        },
        "d7c397ec0c7c4e86aed27f6f73891ae7": {
          "model_module": "@jupyter-widgets/controls",
          "model_name": "ProgressStyleModel",
          "state": {
            "_view_name": "StyleView",
            "_model_name": "ProgressStyleModel",
            "description_width": "initial",
            "_view_module": "@jupyter-widgets/base",
            "_model_module_version": "1.5.0",
            "_view_count": null,
            "_view_module_version": "1.2.0",
            "bar_color": null,
            "_model_module": "@jupyter-widgets/controls"
          }
        },
        "a0158fde0b064d708c497ae85f91fc59": {
          "model_module": "@jupyter-widgets/base",
          "model_name": "LayoutModel",
          "state": {
            "_view_name": "LayoutView",
            "grid_template_rows": null,
            "right": null,
            "justify_content": null,
            "_view_module": "@jupyter-widgets/base",
            "overflow": null,
            "_model_module_version": "1.2.0",
            "_view_count": null,
            "flex_flow": null,
            "width": null,
            "min_width": null,
            "border": null,
            "align_items": null,
            "bottom": null,
            "_model_module": "@jupyter-widgets/base",
            "top": null,
            "grid_column": null,
            "overflow_y": null,
            "overflow_x": null,
            "grid_auto_flow": null,
            "grid_area": null,
            "grid_template_columns": null,
            "flex": null,
            "_model_name": "LayoutModel",
            "justify_items": null,
            "grid_row": null,
            "max_height": null,
            "align_content": null,
            "visibility": null,
            "align_self": null,
            "height": null,
            "min_height": null,
            "padding": null,
            "grid_auto_rows": null,
            "grid_gap": null,
            "max_width": null,
            "order": null,
            "_view_module_version": "1.2.0",
            "grid_template_areas": null,
            "object_position": null,
            "object_fit": null,
            "grid_auto_columns": null,
            "margin": null,
            "display": null,
            "left": null
          }
        },
        "87c80482c1c145c4beafc22c3aeba7bc": {
          "model_module": "@jupyter-widgets/controls",
          "model_name": "DescriptionStyleModel",
          "state": {
            "_view_name": "StyleView",
            "_model_name": "DescriptionStyleModel",
            "description_width": "",
            "_view_module": "@jupyter-widgets/base",
            "_model_module_version": "1.5.0",
            "_view_count": null,
            "_view_module_version": "1.2.0",
            "_model_module": "@jupyter-widgets/controls"
          }
        },
        "421f2a4ec4e341b5b6842af8df6562b4": {
          "model_module": "@jupyter-widgets/base",
          "model_name": "LayoutModel",
          "state": {
            "_view_name": "LayoutView",
            "grid_template_rows": null,
            "right": null,
            "justify_content": null,
            "_view_module": "@jupyter-widgets/base",
            "overflow": null,
            "_model_module_version": "1.2.0",
            "_view_count": null,
            "flex_flow": null,
            "width": null,
            "min_width": null,
            "border": null,
            "align_items": null,
            "bottom": null,
            "_model_module": "@jupyter-widgets/base",
            "top": null,
            "grid_column": null,
            "overflow_y": null,
            "overflow_x": null,
            "grid_auto_flow": null,
            "grid_area": null,
            "grid_template_columns": null,
            "flex": null,
            "_model_name": "LayoutModel",
            "justify_items": null,
            "grid_row": null,
            "max_height": null,
            "align_content": null,
            "visibility": null,
            "align_self": null,
            "height": null,
            "min_height": null,
            "padding": null,
            "grid_auto_rows": null,
            "grid_gap": null,
            "max_width": null,
            "order": null,
            "_view_module_version": "1.2.0",
            "grid_template_areas": null,
            "object_position": null,
            "object_fit": null,
            "grid_auto_columns": null,
            "margin": null,
            "display": null,
            "left": null
          }
        }
      }
    }
  },
  "cells": [
    {
      "cell_type": "markdown",
      "metadata": {
        "id": "view-in-github",
        "colab_type": "text"
      },
      "source": [
        "<a href=\"https://colab.research.google.com/github/poonsnote/NLP/blob/main/Seq2Seq_with_attention(Translation).ipynb\" target=\"_parent\"><img src=\"https://colab.research.google.com/assets/colab-badge.svg\" alt=\"Open In Colab\"/></a>"
      ]
    },
    {
      "cell_type": "markdown",
      "metadata": {
        "id": "Z2qY67SNnQQU"
      },
      "source": [
        "# Neural Machine Translation Model (Seq2Seq with attention)"
      ]
    },
    {
      "cell_type": "code",
      "metadata": {
        "id": "KAOk--HsXmRK"
      },
      "source": [
        "import tensorflow as tf\n",
        "import numpy as np\n",
        "import matplotlib.pyplot as plt\n",
        "import unicodedata\n",
        "import os\n",
        "import io\n",
        "import time\n",
        "import re\n",
        "import pandas as pd\n",
        "from tqdm.notebook import tqdm\n",
        "import nltk.translate.bleu_score\n",
        "import random"
      ],
      "execution_count": null,
      "outputs": []
    },
    {
      "cell_type": "markdown",
      "metadata": {
        "id": "veLFD7OQCevg"
      },
      "source": [
        "## Data Preprocessing"
      ]
    },
    {
      "cell_type": "code",
      "metadata": {
        "id": "EzMrieyjXmRL"
      },
      "source": [
        "path_to_zip = tf.keras.utils.get_file(\n",
        "    'spa-eng.zip', origin='http://storage.googleapis.com/download.tensorflow.org/data/spa-eng.zip',\n",
        "    extract=True)\n",
        "\n",
        "path_to_file = os.path.dirname(path_to_zip)+\"/spa-eng/spa.txt\"\n",
        "\n",
        "lines = io.open(path_to_file, encoding='UTF-8').read().strip().split('\\n')\n",
        "lines = lines[:50000]\n",
        "random.shuffle(lines)\n",
        "lines = lines[:(int(len(lines)*0.9))]\n",
        "test_lines = lines[(int(len(lines)*0.9)):]"
      ],
      "execution_count": null,
      "outputs": []
    },
    {
      "cell_type": "code",
      "metadata": {
        "id": "rCh-PFQAuPQ3"
      },
      "source": [
        "def unicode_to_ascii(s):\n",
        "  return ''.join(c for c in unicodedata.normalize('NFD',s) if unicodedata.category(c) != 'Mn')\n",
        "  \n",
        "def preprocess_sentence(w):\n",
        "    w = unicode_to_ascii(w.lower().strip())\n",
        "    w = re.sub(r\"([?.!,¿])\", r\" \\1 \", w)\n",
        "    w = re.sub(r'[\" \"]+', \" \", w)\n",
        "    w = re.sub(r\"[^a-zA-Z?.!,¿]+\", \" \", w)\n",
        "    w= w.strip()\n",
        "    w= '<start> ' + w + ' <end>'\n",
        "    return w\n",
        "\n",
        "def create_dataset(data):\n",
        "    word_pairs =[[preprocess_sentence(w) for w in l.split('\\t')] for l in data]\n",
        "    return zip(*word_pairs)"
      ],
      "execution_count": null,
      "outputs": []
    },
    {
      "cell_type": "code",
      "metadata": {
        "id": "5Eh-H0jmuNbJ"
      },
      "source": [
        "def tokenize(lang):\n",
        "    lang_tokenizer = tf.keras.preprocessing.text.Tokenizer(filters = '',oov_token='OOV')\n",
        "    lang_tokenizer.fit_on_texts(lang)\n",
        "    tensor = lang_tokenizer.texts_to_sequences(lang)\n",
        "    tensor = tf.keras.preprocessing.sequence.pad_sequences(tensor,padding='post',truncating='post')\n",
        "    return tensor, lang_tokenizer\n",
        "\n",
        "def load_dataset(data):\n",
        "    targ_lang, inp_lang = create_dataset(data)\n",
        "    input_tensor, inp_lang_tokenizer = tokenize(inp_lang)\n",
        "    target_tensor, targ_lang_tokenizer = tokenize(targ_lang)\n",
        "    return input_tensor, target_tensor, inp_lang_tokenizer, targ_lang_tokenizer"
      ],
      "execution_count": null,
      "outputs": []
    },
    {
      "cell_type": "code",
      "metadata": {
        "id": "aN3a4Q_kuPFg"
      },
      "source": [
        "input_tensor, target_tensor, inp_lang, targ_lang = load_dataset(lines)\n",
        "max_length_targ, max_length_inp = target_tensor.shape[1], input_tensor.shape[1]"
      ],
      "execution_count": null,
      "outputs": []
    },
    {
      "cell_type": "markdown",
      "metadata": {
        "id": "rVK5DPLyCb28"
      },
      "source": [
        "## Attention Modeling"
      ]
    },
    {
      "cell_type": "markdown",
      "metadata": {
        "id": "f-HgVHDjrtP2"
      },
      "source": [
        "### Encoder"
      ]
    },
    {
      "cell_type": "code",
      "metadata": {
        "id": "MkJJhtRI4fmC"
      },
      "source": [
        "class Encoder(tf.keras.layers.Layer):\n",
        "    def __init__(self, vocab_size, embedding_dim, enc_units):\n",
        "        super(Encoder, self).__init__()\n",
        "        self.enc_units = enc_units\n",
        "        self.embedding = tf.keras.layers.Embedding(vocab_size, embedding_dim, mask_zero=True)\n",
        "        self.lstm = tf.keras.layers.LSTM(self.enc_units, return_sequences=True, return_state=True)\n",
        "        \n",
        "    def call(self, x):\n",
        "        x = self.embedding(x)\n",
        "        output, state_h, state_c = self.lstm(x)\n",
        "        return output, [state_h, state_c]"
      ],
      "execution_count": null,
      "outputs": []
    },
    {
      "cell_type": "markdown",
      "metadata": {
        "id": "RuqcZ8VFruop"
      },
      "source": [
        "### Attention Mechanism"
      ]
    },
    {
      "cell_type": "code",
      "metadata": {
        "id": "1pHH4G3b3erG"
      },
      "source": [
        "class AdditiveAttention(tf.keras.layers.Layer):\n",
        "  def __init__(self,units):\n",
        "    super(AdditiveAttention, self).__init__()\n",
        "    self.W1 = tf.keras.layers.Dense(units)\n",
        "    self.W2 = tf.keras.layers.Dense(units)\n",
        "    self.V = tf.keras.layers.Dense(1)\n",
        "\n",
        "  def call(self, query, values):\n",
        "    query_with_time_axis = tf.expand_dims(query,1)\n",
        "    score = self.V(tf.nn.tanh(self.W1(query_with_time_axis)+self.W2(values)))\n",
        "    attention_weights = tf.nn.softmax(score, axis=1)\n",
        "    context_vector = attention_weights * values\n",
        "    context_vector = tf.reduce_sum(context_vector, axis=1)\n",
        "\n",
        "    return context_vector, attention_weights"
      ],
      "execution_count": null,
      "outputs": []
    },
    {
      "cell_type": "code",
      "metadata": {
        "id": "zIFeEKDTglqz"
      },
      "source": [
        "class MultiplicativeAttention(tf.keras.layers.Layer):\n",
        "  def __init__(self, units):\n",
        "    super(MultiplicativeAttention, self).__init__()\n",
        "    self.W = tf.keras.layers.Dense(units)\n",
        "  \n",
        "  def call(self, decoder_output, encoder_output):\n",
        "    score = tf.matmul(decoder_output ,self.W(encoder_output), transpose_b=True)\n",
        "    alignment = tf.nn.softmax(score, axis=2)\n",
        "\n",
        "    context_vector = tf.matmul(alignment, encoder_output)\n",
        "    context_vector = tf.reduce_sum(context_vector, axis=1)\n",
        "    return context_vector, alignment"
      ],
      "execution_count": null,
      "outputs": []
    },
    {
      "cell_type": "code",
      "metadata": {
        "id": "7OUSF3vIaRZY"
      },
      "source": [
        "class DotProductAttention(tf.keras.layers.Layer):\n",
        "  def __init__(self, units):\n",
        "    super(DotProductAttention, self).__init__()\n",
        "\n",
        "  def call(self, query, values):\n",
        "    query_with_time_axis = tf.expand_dims(query, 1)\n",
        "    values_transposed = tf.transpose(values, perm=[0, 2, 1])\n",
        "    score = tf.transpose(tf.matmul(query_with_time_axis, values_transposed) , perm=[0, 2, 1])\n",
        "    attention_weights = tf.nn.softmax(score, axis=1)\n",
        "    context_vector = attention_weights * values\n",
        "    context_vector = tf.reduce_sum(context_vector, axis=1)\n",
        "    return context_vector, attention_weights"
      ],
      "execution_count": null,
      "outputs": []
    },
    {
      "cell_type": "code",
      "metadata": {
        "id": "twYnDbGVasv1"
      },
      "source": [
        "class ScaledDotProductAttention(tf.keras.layers.Layer):\n",
        "  def __init__(self, units):\n",
        "    super(ScaledDotProductAttention, self).__init__()\n",
        "\n",
        "  def call(self, query, values):\n",
        "    query_with_time_axis = tf.expand_dims(query, 1)\n",
        "    values_transposed = tf.transpose(values, perm=[0, 2, 1])\n",
        "    score = tf.transpose((tf.matmul(query_with_time_axis, values_transposed))/np.sqrt(units) , perm=[0, 2, 1])\n",
        "    attention_weights = tf.nn.softmax(score, axis=1)\n",
        "    context_vector = attention_weights * values\n",
        "    context_vector = tf.reduce_sum(context_vector, axis=1)\n",
        "    return context_vector, attention_weights"
      ],
      "execution_count": null,
      "outputs": []
    },
    {
      "cell_type": "markdown",
      "metadata": {
        "id": "zb8C83_zryGU"
      },
      "source": [
        "### Decoder"
      ]
    },
    {
      "cell_type": "code",
      "metadata": {
        "id": "TKq5_Kmu6VSV"
      },
      "source": [
        "class Decoder(tf.keras.layers.Layer):\n",
        "    def __init__(self, vocab_size, embedding_dim, dec_units, is_attention=False):\n",
        "        super(Decoder, self).__init__()\n",
        "        self.dec_units = dec_units\n",
        "        self.is_attention = is_attention\n",
        "        self.embedding = tf.keras.layers.Embedding(vocab_size, embedding_dim, mask_zero=True)\n",
        "        self.lstm = tf.keras.layers.LSTM(self.dec_units, return_sequences=True, return_state=True)\n",
        "        if is_attention =='AdditiveAttention':\n",
        "          self.attn = AdditiveAttention(dec_units)\n",
        "        elif is_attention =='MultiplicativeAttention':\n",
        "          self.attn = MultiplicativeAttention(dec_units)\n",
        "        elif is_attention =='DotProductAttention':\n",
        "          self.attn = DotProductAttention(dec_units)\n",
        "        elif is_attention =='ScaledDotProductAttention':\n",
        "          self.attn = ScaledDotProductAttention(dec_units)\n",
        "        self.fc = tf.keras.layers.Dense(vocab_size)\n",
        "    def call(self,x, enc_states,enc_outputs=None):\n",
        "        x = self.embedding(x)\n",
        "        output, state_h, state_c = self.lstm(x, initial_state=enc_states)\n",
        "        attn_weight = None\n",
        "        if self.is_attention:\n",
        "          context_vector, attn_weight = self.attn(state_h, enc_outputs)\n",
        "          output = tf.concat([tf.expand_dims(context_vector, 1), output],axis=-1)\n",
        "\n",
        "        output = self.fc(output)\n",
        "        return output, [state_h, state_c],attn_weight"
      ],
      "execution_count": null,
      "outputs": []
    },
    {
      "cell_type": "markdown",
      "metadata": {
        "id": "nCEfyD6Er1nt"
      },
      "source": [
        "### Seq2Seq with Attention"
      ]
    },
    {
      "cell_type": "code",
      "metadata": {
        "id": "CHPClWvk6pTh"
      },
      "source": [
        "class Seq2Seq(tf.keras.Model):\n",
        "  def __init__(self, inp_vocab_size, tar_vocab_size, embedding_dim, units,is_attention=False):\n",
        "    super(Seq2Seq, self).__init__()\n",
        "    self.encoder = Encoder(inp_vocab_size, embedding_dim, units)\n",
        "    self.decoder = Decoder(tar_vocab_size, embedding_dim, units,is_attention=is_attention)\n",
        "      \n",
        "  def call(self, x):\n",
        "    enc_inp, dec_inp = x\n",
        "    enc_out, enc_states = self.encoder(enc_inp)\n",
        "    dec_out, dec_states = self.decoder(dec_inp, enc_states,enc_out)\n",
        "    return dec_out"
      ],
      "execution_count": null,
      "outputs": []
    },
    {
      "cell_type": "markdown",
      "metadata": {
        "id": "no9wfCU7r_AM"
      },
      "source": [
        "## Training & Test"
      ]
    },
    {
      "cell_type": "code",
      "metadata": {
        "id": "x3HpA9ZesLxH"
      },
      "source": [
        "BATCH_SIZE = 128\n",
        "embedding_dim = 512\n",
        "units = 256 \n",
        "EPOCHS = 10 \n",
        "steps_per_epoch = len(input_tensor)//BATCH_SIZE\n",
        "\n",
        "vocab_inp_size = len(inp_lang.word_index)+1\n",
        "vocab_tar_size = len(targ_lang.word_index)+1\n",
        "\n",
        "train_dataset = tf.data.Dataset.from_tensor_slices((input_tensor, target_tensor))\n",
        "train_dataset = train_dataset.batch(BATCH_SIZE, drop_remainder=True)"
      ],
      "execution_count": null,
      "outputs": []
    },
    {
      "cell_type": "markdown",
      "metadata": {
        "id": "VhPdgHkqCBwk"
      },
      "source": [
        "### AdditiveAttention"
      ]
    },
    {
      "cell_type": "code",
      "metadata": {
        "id": "8Z3lVi127A7o"
      },
      "source": [
        "seq2seq = Seq2Seq(vocab_inp_size, vocab_tar_size, embedding_dim, units,is_attention='AdditiveAttention')"
      ],
      "execution_count": null,
      "outputs": []
    },
    {
      "cell_type": "code",
      "metadata": {
        "id": "0O27PVey7GE6"
      },
      "source": [
        "optimizer = tf.keras.optimizers.Adam()\n",
        "loss_object = tf.keras.losses.SparseCategoricalCrossentropy(from_logits = True, reduction='none')\n",
        "\n",
        "def loss_function(real, pred):\n",
        "  mask = tf.math.logical_not(tf.math.equal(real, 0))\n",
        "  loss_ = loss_object(real, pred)\n",
        "  mask = tf.cast(mask, dtype=loss_.dtype)\n",
        "  loss_ *= mask\n",
        "  return tf.reduce_mean(loss_)"
      ],
      "execution_count": null,
      "outputs": []
    },
    {
      "cell_type": "code",
      "metadata": {
        "id": "XFpma2vV7tfV"
      },
      "source": [
        "@tf.function\n",
        "def train_step(inp, targ):\n",
        "  loss = 0\n",
        "  with tf.GradientTape() as tape:\n",
        "      enc_output, enc_states = seq2seq.encoder(inp)\n",
        "      dec_input = tf.expand_dims([targ_lang.word_index['<start>']] * BATCH_SIZE, 1)\n",
        "      for t in range(1, targ.shape[1]):\n",
        "          predictions, dec_states, attn_weight = seq2seq.decoder(dec_input,enc_states,enc_output)\n",
        "          loss += loss_function(targ[:, t], predictions)\n",
        "          dec_input = tf.expand_dims(targ[:, t], 1)\n",
        "\n",
        "  batch_loss = (loss / int(targ.shape[1]))\n",
        "  variables = seq2seq.encoder.trainable_variables + seq2seq.decoder.trainable_variables\n",
        "  gradients = tape.gradient(loss, variables)\n",
        "  optimizer.apply_gradients(zip(gradients, variables))\n",
        "\n",
        "  return batch_loss"
      ],
      "execution_count": null,
      "outputs": []
    },
    {
      "cell_type": "code",
      "metadata": {
        "colab": {
          "base_uri": "https://localhost:8080/"
        },
        "id": "F7XNRkFD8zXb",
        "outputId": "56ca492d-fb50-4a8b-98bf-f61ad7fd8237"
      },
      "source": [
        "for epoch in range(EPOCHS):\n",
        "  start = time.time()\n",
        "  total_loss = 0\n",
        "  \n",
        "  for (batch, (inp,targ)) in enumerate(train_dataset.take(steps_per_epoch)):\n",
        "      batch_loss = train_step(inp, targ)\n",
        "      total_loss += batch_loss\n",
        "      \n",
        "      if batch % 100 == 0:\n",
        "          print('Epoch %i Batch %i Loss %0.4f' % (epoch+1, batch, batch_loss.numpy()))\n",
        "          \n",
        "  print('Epoch %i Loss %0.4f' % (epoch+1, total_loss/steps_per_epoch))\n",
        "  print('Time taken for 1 epoch %0.4f sec\\n' % (time.time()-start))"
      ],
      "execution_count": null,
      "outputs": [
        {
          "output_type": "stream",
          "text": [
            "Epoch 1 Batch 0 Loss 4.7838\n",
            "Epoch 1 Batch 100 Loss 2.2741\n",
            "Epoch 1 Batch 200 Loss 2.2128\n",
            "Epoch 1 Batch 300 Loss 1.9815\n",
            "Epoch 1 Loss 2.3116\n",
            "Time taken for 1 epoch 78.3974 sec\n",
            "\n",
            "Epoch 2 Batch 0 Loss 1.8566\n",
            "Epoch 2 Batch 100 Loss 1.7515\n",
            "Epoch 2 Batch 200 Loss 1.7601\n",
            "Epoch 2 Batch 300 Loss 1.5968\n",
            "Epoch 2 Loss 1.6981\n",
            "Time taken for 1 epoch 39.1606 sec\n",
            "\n",
            "Epoch 3 Batch 0 Loss 1.4838\n",
            "Epoch 3 Batch 100 Loss 1.4045\n",
            "Epoch 3 Batch 200 Loss 1.4485\n",
            "Epoch 3 Batch 300 Loss 1.2655\n",
            "Epoch 3 Loss 1.3727\n",
            "Time taken for 1 epoch 38.9822 sec\n",
            "\n",
            "Epoch 4 Batch 0 Loss 1.1985\n",
            "Epoch 4 Batch 100 Loss 1.1221\n",
            "Epoch 4 Batch 200 Loss 1.1736\n",
            "Epoch 4 Batch 300 Loss 1.0084\n",
            "Epoch 4 Loss 1.0936\n",
            "Time taken for 1 epoch 39.1584 sec\n",
            "\n",
            "Epoch 5 Batch 0 Loss 0.9304\n",
            "Epoch 5 Batch 100 Loss 0.8826\n",
            "Epoch 5 Batch 200 Loss 0.9389\n",
            "Epoch 5 Batch 300 Loss 0.7717\n",
            "Epoch 5 Loss 0.8501\n",
            "Time taken for 1 epoch 39.0570 sec\n",
            "\n",
            "Epoch 6 Batch 0 Loss 0.6818\n",
            "Epoch 6 Batch 100 Loss 0.6530\n",
            "Epoch 6 Batch 200 Loss 0.7110\n",
            "Epoch 6 Batch 300 Loss 0.5620\n",
            "Epoch 6 Loss 0.6282\n",
            "Time taken for 1 epoch 39.0334 sec\n",
            "\n",
            "Epoch 7 Batch 0 Loss 0.4827\n",
            "Epoch 7 Batch 100 Loss 0.4840\n",
            "Epoch 7 Batch 200 Loss 0.5403\n",
            "Epoch 7 Batch 300 Loss 0.4409\n",
            "Epoch 7 Loss 0.4701\n",
            "Time taken for 1 epoch 39.1011 sec\n",
            "\n",
            "Epoch 8 Batch 0 Loss 0.3491\n",
            "Epoch 8 Batch 100 Loss 0.3675\n",
            "Epoch 8 Batch 200 Loss 0.4270\n",
            "Epoch 8 Batch 300 Loss 0.3533\n",
            "Epoch 8 Loss 0.3635\n",
            "Time taken for 1 epoch 38.8545 sec\n",
            "\n",
            "Epoch 9 Batch 0 Loss 0.2691\n",
            "Epoch 9 Batch 100 Loss 0.2861\n",
            "Epoch 9 Batch 200 Loss 0.3358\n",
            "Epoch 9 Batch 300 Loss 0.2901\n",
            "Epoch 9 Loss 0.2890\n",
            "Time taken for 1 epoch 38.9168 sec\n",
            "\n",
            "Epoch 10 Batch 0 Loss 0.1984\n",
            "Epoch 10 Batch 100 Loss 0.2263\n",
            "Epoch 10 Batch 200 Loss 0.2753\n",
            "Epoch 10 Batch 300 Loss 0.2481\n",
            "Epoch 10 Loss 0.2370\n",
            "Time taken for 1 epoch 38.9544 sec\n",
            "\n"
          ],
          "name": "stdout"
        }
      ]
    },
    {
      "cell_type": "code",
      "metadata": {
        "id": "4Y-LSKlnkLlW"
      },
      "source": [
        "def translate(model, sentence):\n",
        "  attn_weights = np.zeros((max_length_targ, max_length_inp)) \n",
        "  inputs = [inp_lang.word_index[i] if i in inp_lang.word_index.keys() else 1 for i in sentence.split(' ')]\n",
        "  inputs = tf.keras.preprocessing.sequence.pad_sequences([inputs],maxlen=max_length_inp,padding='post',truncating='post')  \n",
        "  inputs = tf.convert_to_tensor(inputs)\n",
        "  result = ''\n",
        "  enc_out, enc_states = seq2seq.encoder(inputs)\n",
        "  dec_input = tf.expand_dims([targ_lang.word_index['<start>']], 0)\n",
        "  \n",
        "  for t in range(max_length_targ):\n",
        "    \n",
        "    prediction, dec_states, attn_weight = seq2seq.decoder(dec_input, enc_states, enc_out)\n",
        "    attn_weight = tf.reshape(attn_weight, (-1,))\n",
        "    attn_weights[t] = attn_weight.numpy()\n",
        "    prediction_id = max(1,tf.argmax(prediction, axis=-1).numpy()[0,0])\n",
        "    \n",
        "    prediction_word = targ_lang.index_word[prediction_id]  \n",
        "    result += prediction_word + ' '\n",
        "\n",
        "    \n",
        "    if prediction_word == '<end>':\n",
        "        break\n",
        "    dec_input = tf.expand_dims([prediction_id], 0)\n",
        "    \n",
        "  return result, attn_weights"
      ],
      "execution_count": null,
      "outputs": []
    },
    {
      "cell_type": "code",
      "metadata": {
        "id": "R2wXKbiBmG0S"
      },
      "source": [
        "en,sp = create_dataset(test_lines)"
      ],
      "execution_count": null,
      "outputs": []
    },
    {
      "cell_type": "code",
      "metadata": {
        "colab": {
          "base_uri": "https://localhost:8080/",
          "height": 585,
          "referenced_widgets": [
            "2a79c97a2af5475091e1c67a7315bcae",
            "87cceea4b4944358a4d37d548ea6b9a5",
            "66b5c77d1cd04941b49ccdb24edfe2e4",
            "aafada3592e84e85bfd45e353fef8dc4",
            "f261abd29b8742429e9c6780e2032808",
            "a292bffc48ae4106b24c4d475a8a0ad1",
            "5f726302f1144e16a3a7fd80040364da",
            "55e27fcda57a486bb2d3ecfcff928423"
          ]
        },
        "id": "HznxuROCkHrn",
        "outputId": "7b6b2a2e-566d-4ad0-8fcc-352c5ffc5adf"
      },
      "source": [
        "en_length = []\n",
        "bleu_list = []\n",
        "for i in tqdm(range(len(en))):\n",
        "  sp_sentence = sp[i][8:-6]\n",
        "  en_sentence = en[i][8:-6]\n",
        "  result, attn_weights = translate(seq2seq, sp_sentence)\n",
        "  if i%300==1:\n",
        "    print('en :', en_sentence)\n",
        "    print('pred :', result)\n",
        "  bleu_score = nltk.translate.bleu_score.sentence_bleu([en_sentence], result[:-6], smoothing_function=nltk.translate.bleu_score.SmoothingFunction().method4)\n",
        "  en_length.append(len(en_sentence.split(' ')))\n",
        "  bleu_list.append(bleu_score)\n",
        "\n",
        "AdditiveAttention_df = pd.DataFrame([en_length,bleu_list]).T"
      ],
      "execution_count": null,
      "outputs": [
        {
          "output_type": "display_data",
          "data": {
            "application/vnd.jupyter.widget-view+json": {
              "model_id": "2a79c97a2af5475091e1c67a7315bcae",
              "version_minor": 0,
              "version_major": 2
            },
            "text/plain": [
              "HBox(children=(FloatProgress(value=0.0, max=4500.0), HTML(value='')))"
            ]
          },
          "metadata": {
            "tags": []
          }
        },
        {
          "output_type": "stream",
          "text": [
            "en : you deserve a present .\n",
            "pred : you a present . <end> \n",
            "en : tom is feeling nauseous .\n",
            "pred : tom is feeling nauseous . <end> \n",
            "en : i ve heard that .\n",
            "pred : i didn t hear that . <end> \n",
            "en : she wants to kiss him .\n",
            "pred : she wants him . <end> \n",
            "en : i am like my brother .\n",
            "pred : i am like my brother . <end> \n",
            "en : tom never said a word .\n",
            "pred : he never told a word . <end> \n",
            "en : why did tom come back ?\n",
            "pred : why did tom come back ? <end> \n",
            "en : i can t even look at you .\n",
            "pred : i can t even look at you . <end> \n",
            "en : i need to go get my laptop .\n",
            "pred : i need to go of my laptop . <end> \n",
            "en : i ll come if necessary .\n",
            "pred : i ve got it s necessary . <end> \n",
            "en : don t be shy .\n",
            "pred : don t be shy . <end> \n",
            "en : i was going to use that .\n",
            "pred : i was going to use that . <end> \n",
            "en : tom actually believed you .\n",
            "pred : i thought you thought you thought you thought you thought you thought \n",
            "en : this is my star pupil .\n",
            "pred : this is my star pupil . <end> \n",
            "en : she married young .\n",
            "pred : she married young . <end> \n",
            "\n"
          ],
          "name": "stdout"
        }
      ]
    },
    {
      "cell_type": "markdown",
      "metadata": {
        "id": "6dygN7i0Jbbr"
      },
      "source": [
        "### DotProductAttention"
      ]
    },
    {
      "cell_type": "code",
      "metadata": {
        "id": "A0lTGj4JKHHw"
      },
      "source": [
        "seq2seq = Seq2Seq(vocab_inp_size, vocab_tar_size, embedding_dim, units,is_attention='DotProductAttention')"
      ],
      "execution_count": null,
      "outputs": []
    },
    {
      "cell_type": "code",
      "metadata": {
        "id": "JBMkHPE4KHH0"
      },
      "source": [
        "optimizer = tf.keras.optimizers.Adam()\n",
        "loss_object = tf.keras.losses.SparseCategoricalCrossentropy(from_logits = True, reduction='none')\n",
        "\n",
        "def loss_function(real, pred):\n",
        "    mask = tf.math.logical_not(tf.math.equal(real, 0))\n",
        "    loss_ = loss_object(real, pred)\n",
        "    mask = tf.cast(mask, dtype=loss_.dtype)\n",
        "    loss_ *= mask\n",
        "    return tf.reduce_mean(loss_)"
      ],
      "execution_count": null,
      "outputs": []
    },
    {
      "cell_type": "code",
      "metadata": {
        "id": "pDxP_4uUKHH0"
      },
      "source": [
        "@tf.function\n",
        "def train_step(inp, targ):\n",
        "    loss = 0\n",
        "    with tf.GradientTape() as tape:\n",
        "        enc_output, enc_states = seq2seq.encoder(inp)\n",
        "        dec_input = tf.expand_dims([targ_lang.word_index['<start>']] * BATCH_SIZE, 1)\n",
        "        for t in range(1, targ.shape[1]):\n",
        "            predictions, dec_states, attn_weight = seq2seq.decoder(dec_input,enc_states,enc_output)\n",
        "            loss += loss_function(targ[:, t], predictions)\n",
        "            dec_input = tf.expand_dims(targ[:, t], 1)\n",
        "    \n",
        "    batch_loss = (loss / int(targ.shape[1]))\n",
        "    variables = seq2seq.encoder.trainable_variables + seq2seq.decoder.trainable_variables\n",
        "    gradients = tape.gradient(loss, variables)\n",
        "    optimizer.apply_gradients(zip(gradients, variables))\n",
        "    \n",
        "    return batch_loss"
      ],
      "execution_count": null,
      "outputs": []
    },
    {
      "cell_type": "code",
      "metadata": {
        "colab": {
          "base_uri": "https://localhost:8080/"
        },
        "id": "Xd8HXzprKHH1",
        "outputId": "3c0a1d0e-50fc-4a1b-ecbd-04c0b4f28638"
      },
      "source": [
        "for epoch in range(EPOCHS):\n",
        "    start = time.time()\n",
        "    total_loss = 0\n",
        "    \n",
        "    for (batch, (inp,targ)) in enumerate(train_dataset.take(steps_per_epoch)):\n",
        "        batch_loss = train_step(inp, targ)\n",
        "        total_loss += batch_loss\n",
        "        \n",
        "        if batch % 100 == 0:\n",
        "            print('Epoch %i Batch %i Loss %0.4f' % (epoch+1, batch, batch_loss.numpy()))\n",
        "            \n",
        "    print('Epoch %i Loss %0.4f' % (epoch+1, total_loss/steps_per_epoch))\n",
        "    print('Time taken for 1 epoch %0.4f sec\\n' % (time.time()-start))"
      ],
      "execution_count": null,
      "outputs": [
        {
          "output_type": "stream",
          "text": [
            "Epoch 1 Batch 0 Loss 4.7842\n",
            "Epoch 1 Batch 100 Loss 2.2924\n",
            "Epoch 1 Batch 200 Loss 2.2087\n",
            "Epoch 1 Batch 300 Loss 1.9770\n",
            "Epoch 1 Loss 2.3116\n",
            "Time taken for 1 epoch 74.8880 sec\n",
            "\n",
            "Epoch 2 Batch 0 Loss 1.8730\n",
            "Epoch 2 Batch 100 Loss 1.7627\n",
            "Epoch 2 Batch 200 Loss 1.7588\n",
            "Epoch 2 Batch 300 Loss 1.5829\n",
            "Epoch 2 Loss 1.7003\n",
            "Time taken for 1 epoch 37.1886 sec\n",
            "\n",
            "Epoch 3 Batch 0 Loss 1.4795\n",
            "Epoch 3 Batch 100 Loss 1.3907\n",
            "Epoch 3 Batch 200 Loss 1.4262\n",
            "Epoch 3 Batch 300 Loss 1.2575\n",
            "Epoch 3 Loss 1.3525\n",
            "Time taken for 1 epoch 36.9664 sec\n",
            "\n",
            "Epoch 4 Batch 0 Loss 1.1531\n",
            "Epoch 4 Batch 100 Loss 1.0977\n",
            "Epoch 4 Batch 200 Loss 1.1537\n",
            "Epoch 4 Batch 300 Loss 1.0004\n",
            "Epoch 4 Loss 1.0701\n",
            "Time taken for 1 epoch 36.9228 sec\n",
            "\n",
            "Epoch 5 Batch 0 Loss 0.9139\n",
            "Epoch 5 Batch 100 Loss 0.8722\n",
            "Epoch 5 Batch 200 Loss 0.9186\n",
            "Epoch 5 Batch 300 Loss 0.7968\n",
            "Epoch 5 Loss 0.8509\n",
            "Time taken for 1 epoch 36.9812 sec\n",
            "\n",
            "Epoch 6 Batch 0 Loss 0.7345\n",
            "Epoch 6 Batch 100 Loss 0.7002\n",
            "Epoch 6 Batch 200 Loss 0.7438\n",
            "Epoch 6 Batch 300 Loss 0.6430\n",
            "Epoch 6 Loss 0.6857\n",
            "Time taken for 1 epoch 36.9716 sec\n",
            "\n",
            "Epoch 7 Batch 0 Loss 0.5827\n",
            "Epoch 7 Batch 100 Loss 0.5637\n",
            "Epoch 7 Batch 200 Loss 0.6122\n",
            "Epoch 7 Batch 300 Loss 0.5271\n",
            "Epoch 7 Loss 0.5590\n",
            "Time taken for 1 epoch 36.8316 sec\n",
            "\n",
            "Epoch 8 Batch 0 Loss 0.4669\n",
            "Epoch 8 Batch 100 Loss 0.4617\n",
            "Epoch 8 Batch 200 Loss 0.5122\n",
            "Epoch 8 Batch 300 Loss 0.4480\n",
            "Epoch 8 Loss 0.4614\n",
            "Time taken for 1 epoch 36.9679 sec\n",
            "\n",
            "Epoch 9 Batch 0 Loss 0.3795\n",
            "Epoch 9 Batch 100 Loss 0.3715\n",
            "Epoch 9 Batch 200 Loss 0.4311\n",
            "Epoch 9 Batch 300 Loss 0.3823\n",
            "Epoch 9 Loss 0.3854\n",
            "Time taken for 1 epoch 36.8540 sec\n",
            "\n",
            "Epoch 10 Batch 0 Loss 0.3244\n",
            "Epoch 10 Batch 100 Loss 0.2995\n",
            "Epoch 10 Batch 200 Loss 0.3676\n",
            "Epoch 10 Batch 300 Loss 0.3262\n",
            "Epoch 10 Loss 0.3262\n",
            "Time taken for 1 epoch 36.9088 sec\n",
            "\n"
          ],
          "name": "stdout"
        }
      ]
    },
    {
      "cell_type": "code",
      "metadata": {
        "colab": {
          "base_uri": "https://localhost:8080/",
          "height": 585,
          "referenced_widgets": [
            "5435d93727ac48789b4db7de9abd3916",
            "9b06ee06c0c3479ba4f9d25c2f6ebb1b",
            "bcc2d01baae7473d82e6197c2506f507",
            "3d9011a3383f4dbda606b7bef91d2a02",
            "ee9c3cc5f254440f8094449cdddeaf6b",
            "e242251f3e6b4552aa91242a039f3dde",
            "59152cbe2c744a1780ce69a227db4c1b",
            "33cffaa1f1b14c4abf4654961d77d4fc"
          ]
        },
        "id": "GOuS-FWJJ2pG",
        "outputId": "282af4bd-2d25-42db-f258-aade5cdae66a"
      },
      "source": [
        "en_length = []\n",
        "bleu_list = []\n",
        "for i in tqdm(range(len(en))):\n",
        "  sp_sentence = sp[i][8:-6]\n",
        "  en_sentence = en[i][8:-6]\n",
        "  result, attn_weights = translate(seq2seq, sp_sentence)\n",
        "  if i%300==1:\n",
        "    print('en :', en_sentence)\n",
        "    print('pred :', result)\n",
        "  bleu_score = nltk.translate.bleu_score.sentence_bleu([en_sentence], result[:-6], smoothing_function=nltk.translate.bleu_score.SmoothingFunction().method4)\n",
        "  en_length.append(len(en_sentence.split(' ')))\n",
        "  bleu_list.append(bleu_score)\n",
        "\n",
        "DotproductAttention_df = pd.DataFrame([en_length,bleu_list]).T"
      ],
      "execution_count": null,
      "outputs": [
        {
          "output_type": "display_data",
          "data": {
            "application/vnd.jupyter.widget-view+json": {
              "model_id": "5435d93727ac48789b4db7de9abd3916",
              "version_minor": 0,
              "version_major": 2
            },
            "text/plain": [
              "HBox(children=(FloatProgress(value=0.0, max=4500.0), HTML(value='')))"
            ]
          },
          "metadata": {
            "tags": []
          }
        },
        {
          "output_type": "stream",
          "text": [
            "en : you deserve a present .\n",
            "pred : you a present your present your present your present your present your \n",
            "en : tom is feeling nauseous .\n",
            "pred : tom feel feeling nauseous . <end> \n",
            "en : i ve heard that .\n",
            "pred : i m that tom . <end> \n",
            "en : she wants to kiss him .\n",
            "pred : she want to kiss you to kiss you to kiss you to \n",
            "en : i am like my brother .\n",
            "pred : i m not my brother . <end> \n",
            "en : tom never said a word .\n",
            "pred : tom never said never said never said never said never said never \n",
            "en : why did tom come back ?\n",
            "pred : what did tom come back ? <end> \n",
            "en : i can t even look at you .\n",
            "pred : i can t look at you look at you look at you \n",
            "en : i need to go get my laptop .\n",
            "pred : i m not go . <end> \n",
            "en : i ll come if necessary .\n",
            "pred : i m not to tango . <end> \n",
            "en : don t be shy .\n",
            "pred : don t be shy . <end> \n",
            "en : i was going to use that .\n",
            "pred : i m not to use that to use that to use that \n",
            "en : tom actually believed you .\n",
            "pred : i do you to you to you to you to you to \n",
            "en : this is my star pupil .\n",
            "pred : i m my type pupil to my type pupil to my type \n",
            "en : she married young .\n",
            "pred : she got young young young young young young young young young young \n",
            "\n"
          ],
          "name": "stdout"
        }
      ]
    },
    {
      "cell_type": "markdown",
      "metadata": {
        "id": "e5KX5xJ-Kbdh"
      },
      "source": [
        "### ScaledDotProductAttention"
      ]
    },
    {
      "cell_type": "code",
      "metadata": {
        "id": "jSa0s7khKesX"
      },
      "source": [
        "seq2seq = Seq2Seq(vocab_inp_size, vocab_tar_size, embedding_dim, units,is_attention='ScaledDotProductAttention')"
      ],
      "execution_count": null,
      "outputs": []
    },
    {
      "cell_type": "code",
      "metadata": {
        "id": "U-ar_ot2KesX"
      },
      "source": [
        "optimizer = tf.keras.optimizers.Adam()\n",
        "loss_object = tf.keras.losses.SparseCategoricalCrossentropy(from_logits = True, reduction='none')\n",
        "\n",
        "def loss_function(real, pred):\n",
        "    mask = tf.math.logical_not(tf.math.equal(real, 0))\n",
        "    loss_ = loss_object(real, pred)\n",
        "    mask = tf.cast(mask, dtype=loss_.dtype)\n",
        "    loss_ *= mask\n",
        "    return tf.reduce_mean(loss_)"
      ],
      "execution_count": null,
      "outputs": []
    },
    {
      "cell_type": "code",
      "metadata": {
        "id": "6kxHz54OKesi"
      },
      "source": [
        "@tf.function\n",
        "def train_step(inp, targ):\n",
        "    loss = 0\n",
        "    with tf.GradientTape() as tape:\n",
        "        enc_output, enc_states = seq2seq.encoder(inp)\n",
        "        dec_input = tf.expand_dims([targ_lang.word_index['<start>']] * BATCH_SIZE, 1)\n",
        "        for t in range(1, targ.shape[1]):\n",
        "            predictions, dec_states, attn_weight = seq2seq.decoder(dec_input,enc_states,enc_output)\n",
        "            loss += loss_function(targ[:, t], predictions)\n",
        "            dec_input = tf.expand_dims(targ[:, t], 1)\n",
        "    \n",
        "    batch_loss = (loss / int(targ.shape[1]))\n",
        "    variables = seq2seq.encoder.trainable_variables + seq2seq.decoder.trainable_variables\n",
        "    gradients = tape.gradient(loss, variables)\n",
        "    optimizer.apply_gradients(zip(gradients, variables))\n",
        "    \n",
        "    return batch_loss"
      ],
      "execution_count": null,
      "outputs": []
    },
    {
      "cell_type": "code",
      "metadata": {
        "colab": {
          "base_uri": "https://localhost:8080/"
        },
        "id": "d8CkiCRkKesj",
        "outputId": "0bc819d7-3c27-4e19-c238-7f0116baa714"
      },
      "source": [
        "for epoch in range(EPOCHS):\n",
        "    start = time.time()\n",
        "    total_loss = 0\n",
        "    \n",
        "    for (batch, (inp,targ)) in enumerate(train_dataset.take(steps_per_epoch)):\n",
        "        batch_loss = train_step(inp, targ)\n",
        "        total_loss += batch_loss\n",
        "        \n",
        "        if batch % 100 == 0:\n",
        "            print('Epoch %i Batch %i Loss %0.4f' % (epoch+1, batch, batch_loss.numpy()))\n",
        "            \n",
        "    print('Epoch %i Loss %0.4f' % (epoch+1, total_loss/steps_per_epoch))\n",
        "    print('Time taken for 1 epoch %0.4f sec\\n' % (time.time()-start))"
      ],
      "execution_count": null,
      "outputs": [
        {
          "output_type": "stream",
          "text": [
            "Epoch 1 Batch 0 Loss 4.7838\n",
            "Epoch 1 Batch 100 Loss 2.2950\n",
            "Epoch 1 Batch 200 Loss 2.2275\n",
            "Epoch 1 Batch 300 Loss 1.9748\n",
            "Epoch 1 Loss 2.3215\n",
            "Time taken for 1 epoch 75.7187 sec\n",
            "\n",
            "Epoch 2 Batch 0 Loss 1.8663\n",
            "Epoch 2 Batch 100 Loss 1.7541\n",
            "Epoch 2 Batch 200 Loss 1.7751\n",
            "Epoch 2 Batch 300 Loss 1.6003\n",
            "Epoch 2 Loss 1.7049\n",
            "Time taken for 1 epoch 37.5226 sec\n",
            "\n",
            "Epoch 3 Batch 0 Loss 1.4815\n",
            "Epoch 3 Batch 100 Loss 1.4022\n",
            "Epoch 3 Batch 200 Loss 1.4212\n",
            "Epoch 3 Batch 300 Loss 1.2603\n",
            "Epoch 3 Loss 1.3609\n",
            "Time taken for 1 epoch 37.7110 sec\n",
            "\n",
            "Epoch 4 Batch 0 Loss 1.1765\n",
            "Epoch 4 Batch 100 Loss 1.0800\n",
            "Epoch 4 Batch 200 Loss 1.1173\n",
            "Epoch 4 Batch 300 Loss 0.9761\n",
            "Epoch 4 Loss 1.0588\n",
            "Time taken for 1 epoch 37.6863 sec\n",
            "\n",
            "Epoch 5 Batch 0 Loss 0.9045\n",
            "Epoch 5 Batch 100 Loss 0.8256\n",
            "Epoch 5 Batch 200 Loss 0.8744\n",
            "Epoch 5 Batch 300 Loss 0.7282\n",
            "Epoch 5 Loss 0.8072\n",
            "Time taken for 1 epoch 37.6227 sec\n",
            "\n",
            "Epoch 6 Batch 0 Loss 0.6826\n",
            "Epoch 6 Batch 100 Loss 0.6289\n",
            "Epoch 6 Batch 200 Loss 0.6705\n",
            "Epoch 6 Batch 300 Loss 0.5594\n",
            "Epoch 6 Loss 0.6098\n",
            "Time taken for 1 epoch 37.6809 sec\n",
            "\n",
            "Epoch 7 Batch 0 Loss 0.5044\n",
            "Epoch 7 Batch 100 Loss 0.4672\n",
            "Epoch 7 Batch 200 Loss 0.5237\n",
            "Epoch 7 Batch 300 Loss 0.4321\n",
            "Epoch 7 Loss 0.4650\n",
            "Time taken for 1 epoch 37.8909 sec\n",
            "\n",
            "Epoch 8 Batch 0 Loss 0.3789\n",
            "Epoch 8 Batch 100 Loss 0.3478\n",
            "Epoch 8 Batch 200 Loss 0.4025\n",
            "Epoch 8 Batch 300 Loss 0.3454\n",
            "Epoch 8 Loss 0.3616\n",
            "Time taken for 1 epoch 37.6869 sec\n",
            "\n",
            "Epoch 9 Batch 0 Loss 0.2981\n",
            "Epoch 9 Batch 100 Loss 0.2761\n",
            "Epoch 9 Batch 200 Loss 0.3173\n",
            "Epoch 9 Batch 300 Loss 0.2803\n",
            "Epoch 9 Loss 0.2866\n",
            "Time taken for 1 epoch 37.7541 sec\n",
            "\n",
            "Epoch 10 Batch 0 Loss 0.2403\n",
            "Epoch 10 Batch 100 Loss 0.2258\n",
            "Epoch 10 Batch 200 Loss 0.2555\n",
            "Epoch 10 Batch 300 Loss 0.2359\n",
            "Epoch 10 Loss 0.2332\n",
            "Time taken for 1 epoch 37.8097 sec\n",
            "\n"
          ],
          "name": "stdout"
        }
      ]
    },
    {
      "cell_type": "code",
      "metadata": {
        "id": "xk9eafoIKesj"
      },
      "source": [
        "def translate(model, sentence):\n",
        "  attn_weights = np.zeros((max_length_targ, max_length_inp)) \n",
        "  inputs = [inp_lang.word_index[i] if i in inp_lang.word_index.keys() else 1 for i in sentence.split(' ')]\n",
        "  inputs = tf.keras.preprocessing.sequence.pad_sequences([inputs],maxlen=max_length_inp,padding='post',truncating='post')  \n",
        "  inputs = tf.convert_to_tensor(inputs)\n",
        "  result = ''\n",
        "  enc_out, enc_states = seq2seq.encoder(inputs)\n",
        "  dec_input = tf.expand_dims([targ_lang.word_index['<start>']], 0)\n",
        "  \n",
        "  for t in range(max_length_targ):\n",
        "    \n",
        "    prediction, dec_states, attn_weight = seq2seq.decoder(dec_input, enc_states, enc_out)\n",
        "    attn_weight = tf.reshape(attn_weight, (-1,))\n",
        "    attn_weights[t] = attn_weight.numpy()\n",
        "    prediction_id = max(1,tf.argmax(prediction, axis=-1).numpy()[0,0])\n",
        "    \n",
        "    prediction_word = targ_lang.index_word[prediction_id]  \n",
        "    result += prediction_word + ' '\n",
        "\n",
        "    \n",
        "    if prediction_word == '<end>':\n",
        "        break\n",
        "    dec_input = tf.expand_dims([prediction_id], 0)\n",
        "    \n",
        "  return result, attn_weights"
      ],
      "execution_count": null,
      "outputs": []
    },
    {
      "cell_type": "code",
      "metadata": {
        "colab": {
          "base_uri": "https://localhost:8080/",
          "height": 585,
          "referenced_widgets": [
            "b3bc57e0c2844322a4b84a368d669859",
            "b495012334f843f082427e2728a4c80c",
            "afc20ac58945449b8fb38a5161ac277d",
            "6c58e6fb35d342efb10a48a17d134363",
            "d7c397ec0c7c4e86aed27f6f73891ae7",
            "a0158fde0b064d708c497ae85f91fc59",
            "87c80482c1c145c4beafc22c3aeba7bc",
            "421f2a4ec4e341b5b6842af8df6562b4"
          ]
        },
        "id": "qE2egy_6Kesj",
        "outputId": "1566ae2f-8413-49b2-8f7d-03bcf3e7329a"
      },
      "source": [
        "en_length = []\n",
        "bleu_list = []\n",
        "for i in tqdm(range(len(en))):\n",
        "  sp_sentence = sp[i][8:-6]\n",
        "  en_sentence = en[i][8:-6]\n",
        "  result, attn_weights = translate(seq2seq, sp_sentence)\n",
        "  if i%300==1:\n",
        "    print('en :', en_sentence)\n",
        "    print('pred :', result)\n",
        "  bleu_score = nltk.translate.bleu_score.sentence_bleu([en_sentence], result[:-6], smoothing_function=nltk.translate.bleu_score.SmoothingFunction().method4)\n",
        "  en_length.append(len(en_sentence.split(' ')))\n",
        "  bleu_list.append(bleu_score)\n",
        "\n",
        "Scaled_DotproductAttention_df = pd.DataFrame([en_length,bleu_list]).T"
      ],
      "execution_count": null,
      "outputs": [
        {
          "output_type": "display_data",
          "data": {
            "application/vnd.jupyter.widget-view+json": {
              "model_id": "b3bc57e0c2844322a4b84a368d669859",
              "version_minor": 0,
              "version_major": 2
            },
            "text/plain": [
              "HBox(children=(FloatProgress(value=0.0, max=4500.0), HTML(value='')))"
            ]
          },
          "metadata": {
            "tags": []
          }
        },
        {
          "output_type": "stream",
          "text": [
            "en : you deserve a present .\n",
            "pred : you deserve a present . <end> \n",
            "en : tom is feeling nauseous .\n",
            "pred : tom is feeling nauseous . <end> \n",
            "en : i ve heard that .\n",
            "pred : i hear that . <end> \n",
            "en : she wants to kiss him .\n",
            "pred : she wants to kiss him . <end> \n",
            "en : i am like my brother .\n",
            "pred : i m my brother . <end> \n",
            "en : tom never said a word .\n",
            "pred : tom never said a word . <end> \n",
            "en : why did tom come back ?\n",
            "pred : tom come back ? <end> \n",
            "en : i can t even look at you .\n",
            "pred : i can t look at you . <end> \n",
            "en : i need to go get my laptop .\n",
            "pred : i need to go to go to go to go to go \n",
            "en : i ll come if necessary .\n",
            "pred : i m just if it s just if it s just if \n",
            "en : don t be shy .\n",
            "pred : don t be shy . <end> \n",
            "en : i was going to use that .\n",
            "pred : i was going to use this to use this to use this \n",
            "en : tom actually believed you .\n",
            "pred : tom believed you . <end> \n",
            "en : this is my star pupil .\n",
            "pred : this is my star pupil . <end> \n",
            "en : she married young .\n",
            "pred : she young . <end> \n",
            "\n"
          ],
          "name": "stdout"
        }
      ]
    },
    {
      "cell_type": "markdown",
      "metadata": {
        "id": "WvdTZTqcsUIE"
      },
      "source": [
        "### Ploting"
      ]
    },
    {
      "cell_type": "code",
      "metadata": {
        "colab": {
          "base_uri": "https://localhost:8080/",
          "height": 280
        },
        "id": "6VaUDhSaYE5K",
        "outputId": "ce3417ae-165c-43aa-8445-362cccbc167e"
      },
      "source": [
        "plt.plot(AdditiveAttention_df.groupby(0)[1].mean(),label='Additive(Bahdanau)')\n",
        "plt.plot(DotproductAttention_df.groupby(0)[1].mean(),label='Dotproduct')\n",
        "plt.plot(Scaled_DotproductAttention_df.groupby(0)[1].mean(),label='Scaled_Dotproduct')\n",
        "plt.legend()\n",
        "plt.xlabel(\"EN_Sequence\")\n",
        "plt.ylabel(\"BLEU_Score\")\n",
        "plt.show()"
      ],
      "execution_count": null,
      "outputs": [
        {
          "output_type": "display_data",
          "data": {
            "image/png": "[encoded data removed]",
            "text/plain": [
              "<Figure size 432x288 with 1 Axes>"
            ]
          },
          "metadata": {
            "tags": [],
            "needs_background": "light"
          }
        }
      ]
    }
  ]
}
